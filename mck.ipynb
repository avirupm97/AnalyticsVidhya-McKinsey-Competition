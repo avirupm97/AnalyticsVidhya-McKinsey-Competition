{
 "cells": [
  {
   "cell_type": "code",
   "execution_count": 108,
   "metadata": {
    "collapsed": true
   },
   "outputs": [],
   "source": [
    "import pandas as pd\n",
    "import numpy as np"
   ]
  },
  {
   "cell_type": "code",
   "execution_count": 120,
   "metadata": {
    "collapsed": true
   },
   "outputs": [],
   "source": [
    "#import data\n",
    "\n",
    "trains=pd.read_csv('train.csv')\n",
    "tests=pd.read_csv('test.csv')\n",
    "details=pd.read_excel('details.xlsx')\n",
    "subm=pd.read_csv('Sample_Solution.csv')"
   ]
  },
  {
   "cell_type": "code",
   "execution_count": 121,
   "metadata": {
    "collapsed": false
   },
   "outputs": [
    {
     "data": {
      "text/html": [
       "<div>\n",
       "<style>\n",
       "    .dataframe thead tr:only-child th {\n",
       "        text-align: right;\n",
       "    }\n",
       "\n",
       "    .dataframe thead th {\n",
       "        text-align: left;\n",
       "    }\n",
       "\n",
       "    .dataframe tbody tr th {\n",
       "        vertical-align: top;\n",
       "    }\n",
       "</style>\n",
       "<table border=\"1\" class=\"dataframe\">\n",
       "  <thead>\n",
       "    <tr style=\"text-align: right;\">\n",
       "      <th></th>\n",
       "      <th>ID</th>\n",
       "      <th>Unique ID (can not be used for predictions)</th>\n",
       "    </tr>\n",
       "  </thead>\n",
       "  <tbody>\n",
       "    <tr>\n",
       "      <th>0</th>\n",
       "      <td>Gender</td>\n",
       "      <td>Sex of the applicant</td>\n",
       "    </tr>\n",
       "    <tr>\n",
       "      <th>1</th>\n",
       "      <td>DOB</td>\n",
       "      <td>Date of Birth of the applicant</td>\n",
       "    </tr>\n",
       "    <tr>\n",
       "      <th>2</th>\n",
       "      <td>Lead_Creation_Date</td>\n",
       "      <td>Date on which Lead was created</td>\n",
       "    </tr>\n",
       "    <tr>\n",
       "      <th>3</th>\n",
       "      <td>City_Code</td>\n",
       "      <td>Anonymised Code for the City</td>\n",
       "    </tr>\n",
       "    <tr>\n",
       "      <th>4</th>\n",
       "      <td>City_Category</td>\n",
       "      <td>Anonymised City Feature</td>\n",
       "    </tr>\n",
       "    <tr>\n",
       "      <th>5</th>\n",
       "      <td>Employer_Code</td>\n",
       "      <td>Anonymised Code for the Employer</td>\n",
       "    </tr>\n",
       "    <tr>\n",
       "      <th>6</th>\n",
       "      <td>Employer_Category1</td>\n",
       "      <td>Anonymised Employer Feature</td>\n",
       "    </tr>\n",
       "    <tr>\n",
       "      <th>7</th>\n",
       "      <td>Employer_Category2</td>\n",
       "      <td>Anonymised Employer Feature</td>\n",
       "    </tr>\n",
       "    <tr>\n",
       "      <th>8</th>\n",
       "      <td>Monthly_Income</td>\n",
       "      <td>Monthly Income in Dollars</td>\n",
       "    </tr>\n",
       "    <tr>\n",
       "      <th>9</th>\n",
       "      <td>Customer_Existing_Primary_Bank_Code</td>\n",
       "      <td>Anonymised Customer Bank Code</td>\n",
       "    </tr>\n",
       "    <tr>\n",
       "      <th>10</th>\n",
       "      <td>Primary_Bank_Type</td>\n",
       "      <td>Anonymised Bank Feature</td>\n",
       "    </tr>\n",
       "    <tr>\n",
       "      <th>11</th>\n",
       "      <td>Contacted</td>\n",
       "      <td>Contact Verified (Y/N)</td>\n",
       "    </tr>\n",
       "    <tr>\n",
       "      <th>12</th>\n",
       "      <td>Source</td>\n",
       "      <td>Categorical Variable representing source of lead</td>\n",
       "    </tr>\n",
       "    <tr>\n",
       "      <th>13</th>\n",
       "      <td>Source_Category</td>\n",
       "      <td>Type of Source</td>\n",
       "    </tr>\n",
       "    <tr>\n",
       "      <th>14</th>\n",
       "      <td>Existing_EMI</td>\n",
       "      <td>EMI of Existing Loans in Dollars</td>\n",
       "    </tr>\n",
       "    <tr>\n",
       "      <th>15</th>\n",
       "      <td>Loan_Amount</td>\n",
       "      <td>Loan Amount Requested</td>\n",
       "    </tr>\n",
       "    <tr>\n",
       "      <th>16</th>\n",
       "      <td>Loan_Period</td>\n",
       "      <td>Loan Period (Years)</td>\n",
       "    </tr>\n",
       "    <tr>\n",
       "      <th>17</th>\n",
       "      <td>Interest_Rate</td>\n",
       "      <td>Interest Rate of Submitted Loan Amount</td>\n",
       "    </tr>\n",
       "    <tr>\n",
       "      <th>18</th>\n",
       "      <td>EMI</td>\n",
       "      <td>EMI of Requested Loan Amount in dollars</td>\n",
       "    </tr>\n",
       "    <tr>\n",
       "      <th>19</th>\n",
       "      <td>Var1</td>\n",
       "      <td>Categorical variable with multiple levels</td>\n",
       "    </tr>\n",
       "    <tr>\n",
       "      <th>20</th>\n",
       "      <td>Approved</td>\n",
       "      <td>(Target) Whether a loan is Approved or not (0/1)</td>\n",
       "    </tr>\n",
       "  </tbody>\n",
       "</table>\n",
       "</div>"
      ],
      "text/plain": [
       "                                     ID  \\\n",
       "0                                Gender   \n",
       "1                                   DOB   \n",
       "2                    Lead_Creation_Date   \n",
       "3                             City_Code   \n",
       "4                         City_Category   \n",
       "5                         Employer_Code   \n",
       "6                    Employer_Category1   \n",
       "7                    Employer_Category2   \n",
       "8                        Monthly_Income   \n",
       "9   Customer_Existing_Primary_Bank_Code   \n",
       "10                    Primary_Bank_Type   \n",
       "11                            Contacted   \n",
       "12                               Source   \n",
       "13                      Source_Category   \n",
       "14                         Existing_EMI   \n",
       "15                          Loan_Amount   \n",
       "16                          Loan_Period   \n",
       "17                        Interest_Rate   \n",
       "18                                  EMI   \n",
       "19                                 Var1   \n",
       "20                             Approved   \n",
       "\n",
       "         Unique ID (can not be used for predictions)  \n",
       "0                               Sex of the applicant  \n",
       "1                     Date of Birth of the applicant  \n",
       "2                     Date on which Lead was created  \n",
       "3                       Anonymised Code for the City  \n",
       "4                            Anonymised City Feature  \n",
       "5                   Anonymised Code for the Employer  \n",
       "6                        Anonymised Employer Feature  \n",
       "7                        Anonymised Employer Feature  \n",
       "8                          Monthly Income in Dollars  \n",
       "9                      Anonymised Customer Bank Code  \n",
       "10                           Anonymised Bank Feature  \n",
       "11                            Contact Verified (Y/N)  \n",
       "12  Categorical Variable representing source of lead  \n",
       "13                                    Type of Source  \n",
       "14                  EMI of Existing Loans in Dollars  \n",
       "15                             Loan Amount Requested  \n",
       "16                               Loan Period (Years)  \n",
       "17            Interest Rate of Submitted Loan Amount  \n",
       "18           EMI of Requested Loan Amount in dollars  \n",
       "19         Categorical variable with multiple levels  \n",
       "20  (Target) Whether a loan is Approved or not (0/1)  "
      ]
     },
     "execution_count": 121,
     "metadata": {},
     "output_type": "execute_result"
    }
   ],
   "source": [
    "details"
   ]
  },
  {
   "cell_type": "code",
   "execution_count": 122,
   "metadata": {
    "collapsed": false
   },
   "outputs": [],
   "source": [
    "train=trains.drop(['DOB','City_Code','Employer_Code','ID','Source','Customer_Existing_Primary_Bank_Code','Employer_Category2','Lead_Creation_Date'], axis=1)\n",
    "test=tests.drop(['DOB','City_Code','Employer_Code','ID','Source','Customer_Existing_Primary_Bank_Code','Employer_Category2','Lead_Creation_Date'], axis=1)"
   ]
  },
  {
   "cell_type": "code",
   "execution_count": 123,
   "metadata": {
    "collapsed": false
   },
   "outputs": [],
   "source": [
    "all_data=train.append(test)\n",
    "\n",
    "from sklearn.preprocessing import LabelEncoder\n",
    "\n",
    "le = LabelEncoder()\n",
    "all_data['Gender'] = le.fit_transform(all_data['Gender'].astype('str'))\n",
    "\n",
    "le2 = LabelEncoder()\n",
    "all_data['Contacted'] = le2.fit_transform(all_data['Contacted'].astype('str'))\n",
    "\n",
    "le3 = LabelEncoder()\n",
    "all_data['City_Category'] = le3.fit_transform(all_data['City_Category'].astype('str'))\n",
    "\n",
    "le4 = LabelEncoder()\n",
    "all_data['Source_Category'] = le4.fit_transform(all_data['Source_Category'].astype('str'))\n",
    "\n",
    "le5 = LabelEncoder()\n",
    "all_data['Primary_Bank_Type'] = le5.fit_transform(all_data['Primary_Bank_Type'].astype('str'))\n",
    "\n",
    "le6 = LabelEncoder()\n",
    "all_data['Employer_Category1'] = le6.fit_transform(all_data['Employer_Category1'].astype('str'))\n",
    "\n",
    "train = all_data[0:train.shape[0]]\n",
    "test = all_data[train.shape[0]::]\n"
   ]
  },
  {
   "cell_type": "code",
   "execution_count": 124,
   "metadata": {
    "collapsed": false
   },
   "outputs": [
    {
     "name": "stderr",
     "output_type": "stream",
     "text": [
      "C:\\ProgramData\\Anaconda3\\lib\\site-packages\\pandas\\core\\generic.py:3549: SettingWithCopyWarning: \n",
      "A value is trying to be set on a copy of a slice from a DataFrame\n",
      "\n",
      "See the caveats in the documentation: http://pandas.pydata.org/pandas-docs/stable/indexing.html#indexing-view-versus-copy\n",
      "  self._update_inplace(new_data)\n"
     ]
    }
   ],
   "source": [
    "train['EMI'].fillna(0, inplace=True)\n",
    "train['Interest_Rate'].fillna(0, inplace=True)\n",
    "\n",
    "train['Loan_Amount'].fillna(0, inplace=True)\n",
    "train['Loan_Period'].fillna(0, inplace=True)"
   ]
  },
  {
   "cell_type": "code",
   "execution_count": 125,
   "metadata": {
    "collapsed": false
   },
   "outputs": [],
   "source": [
    "from sklearn.base import TransformerMixin\n",
    "class DataFrameImputer(TransformerMixin):\n",
    "    def fit(self, X, y=None):\n",
    "        self.fill = pd.Series([X[c].value_counts().index[0]\n",
    "            if X[c].dtype == np.dtype('O') else X[c].median() for c in X],\n",
    "            index=X.columns)\n",
    "        return self\n",
    "    def transform(self, X, y=None):\n",
    "        return X.fillna(self.fill)\n",
    "\n",
    "all_X = train.append(test)\n",
    "all_X_imputed = DataFrameImputer().fit_transform(all_X)\n",
    "\n",
    "train = all_X_imputed[0:train.shape[0]]\n",
    "test = all_X_imputed[train.shape[0]::]"
   ]
  },
  {
   "cell_type": "code",
   "execution_count": 126,
   "metadata": {
    "collapsed": false
   },
   "outputs": [],
   "source": [
    "import lightgbm as lgb\n",
    "light=lgb.LGBMClassifier()\n",
    "light.fit(train.drop('Approved', axis=1),train['Approved'])\n",
    "lpred=light.predict(test.drop('Approved', axis=1))\n",
    "\n",
    "submissionfile=pd.DataFrame(columns=['ID','Approved'])\n",
    "submissionfile['ID']=tests['ID']\n",
    "submissionfile['Approved']=lpred\n",
    "submissionfile.to_csv('mck.csv', index=False)"
   ]
  }
 ],
 "metadata": {
  "kernelspec": {
   "display_name": "Python 3",
   "language": "python",
   "name": "python3"
  },
  "language_info": {
   "codemirror_mode": {
    "name": "ipython",
    "version": 3
   },
   "file_extension": ".py",
   "mimetype": "text/x-python",
   "name": "python",
   "nbconvert_exporter": "python",
   "pygments_lexer": "ipython3",
   "version": "3.6.0"
  }
 },
 "nbformat": 4,
 "nbformat_minor": 2
}
